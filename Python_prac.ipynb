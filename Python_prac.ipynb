{
 "cells": [
  {
   "cell_type": "code",
   "execution_count": 1,
   "metadata": {
    "collapsed": true
   },
   "outputs": [],
   "source": [
    "#Hello "
   ]
  },
  {
   "cell_type": "code",
   "execution_count": 1,
   "metadata": {
    "collapsed": true
   },
   "outputs": [],
   "source": [
    "# Write a Python function that takes a sequence of numbers and determines if all the numbers are different from each other. "
   ]
  },
  {
   "cell_type": "code",
   "execution_count": 35,
   "metadata": {
    "collapsed": true
   },
   "outputs": [],
   "source": [
    "from collections import defaultdict\n",
    "def different(n):\n",
    "    if len(n)==len(set(n)):\n",
    "        print('true')\n",
    "        print(n)\n",
    "        print(set(n))\n",
    "    else:\n",
    "        print('false')\n",
    "        "
   ]
  },
  {
   "cell_type": "code",
   "execution_count": 36,
   "metadata": {},
   "outputs": [
    {
     "name": "stdout",
     "output_type": "stream",
     "text": [
      "true\n",
      "[1, 2, 3, 4]\n",
      "{1, 2, 3, 4}\n"
     ]
    }
   ],
   "source": [
    "different([1,2,3,4])"
   ]
  },
  {
   "cell_type": "code",
   "execution_count": 100,
   "metadata": {
    "collapsed": true
   },
   "outputs": [],
   "source": [
    "#Write a Python program to get a string made of the first 2 and the last 2 chars from a given a string. \n",
    "#If the string length is less than 2, return instead of the empty string."
   ]
  },
  {
   "cell_type": "code",
   "execution_count": 119,
   "metadata": {
    "collapsed": true
   },
   "outputs": [],
   "source": [
    "def new(s):\n",
    "    if len(s)<2:\n",
    "        print('empty')\n",
    "    else:\n",
    "        str1=s[:2]\n",
    "        str2=s[-2:]\n",
    "        str3=str1+str2\n",
    "        print(str1)\n",
    "        print(str2)\n",
    "        print(str3)"
   ]
  },
  {
   "cell_type": "code",
   "execution_count": 122,
   "metadata": {},
   "outputs": [
    {
     "name": "stdout",
     "output_type": "stream",
     "text": [
      "empty\n"
     ]
    }
   ],
   "source": [
    "new('w')"
   ]
  },
  {
   "cell_type": "code",
   "execution_count": 123,
   "metadata": {
    "collapsed": true
   },
   "outputs": [],
   "source": [
    "#Write a Python program to add 'ing' at the end of a given string (length should be at least 3). \n",
    "#If the given string already ends with 'ing' then add 'ly' instead. \n",
    "#If the string length of the given string is less than 3, leave it unchanged"
   ]
  },
  {
   "cell_type": "code",
   "execution_count": 137,
   "metadata": {
    "collapsed": true
   },
   "outputs": [],
   "source": [
    "def adding(s):\n",
    "    if len(s)>=3 and s[-3:]=='ing':\n",
    "        s=s+'ly'\n",
    "        print(s)\n",
    "    elif len(s)>=3:\n",
    "        s=s+'ing'\n",
    "        print(s)\n",
    "    else:\n",
    "        print(s)"
   ]
  },
  {
   "cell_type": "code",
   "execution_count": 138,
   "metadata": {},
   "outputs": [
    {
     "name": "stdout",
     "output_type": "stream",
     "text": [
      "sbcing\n"
     ]
    }
   ],
   "source": [
    "adding('sbc')"
   ]
  },
  {
   "cell_type": "code",
   "execution_count": 1,
   "metadata": {
    "collapsed": true
   },
   "outputs": [],
   "source": [
    "#Write a Python program to find the first appearance of the substring 'not' and 'poor' from a given string,"
   ]
  },
  {
   "cell_type": "code",
   "execution_count": 26,
   "metadata": {
    "collapsed": true
   },
   "outputs": [],
   "source": [
    "def sub(s):\n",
    "    a=s.find('poor',0,len(s))\n",
    "    print(a)\n",
    "   "
   ]
  },
  {
   "cell_type": "code",
   "execution_count": 28,
   "metadata": {},
   "outputs": [
    {
     "name": "stdout",
     "output_type": "stream",
     "text": [
      "19\n"
     ]
    }
   ],
   "source": [
    "sub('This family is not poor')"
   ]
  },
  {
   "cell_type": "code",
   "execution_count": 29,
   "metadata": {
    "collapsed": true
   },
   "outputs": [],
   "source": [
    "#Write a Python function that takes a list of words and returns the length of the longest one"
   ]
  },
  {
   "cell_type": "code",
   "execution_count": 69,
   "metadata": {},
   "outputs": [
    {
     "ename": "IndentationError",
     "evalue": "expected an indented block (<ipython-input-69-6d6a785ebb11>, line 2)",
     "output_type": "error",
     "traceback": [
      "\u001b[1;36m  File \u001b[1;32m\"<ipython-input-69-6d6a785ebb11>\"\u001b[1;36m, line \u001b[1;32m2\u001b[0m\n\u001b[1;33m    for i in l:\u001b[0m\n\u001b[1;37m      ^\u001b[0m\n\u001b[1;31mIndentationError\u001b[0m\u001b[1;31m:\u001b[0m expected an indented block\n"
     ]
    }
   ],
   "source": [
    "def long(l):\n",
    "    new_list=[]\n",
    "    for i in l:\n",
    "        new_list.append(len(i),i)\n",
    "    new_list.sort()\n"
   ]
  },
  {
   "cell_type": "code",
   "execution_count": 66,
   "metadata": {},
   "outputs": [
    {
     "name": "stdout",
     "output_type": "stream",
     "text": [
      "['lk']\n"
     ]
    }
   ],
   "source": [
    "long(['hdfuadhk','kheywgsiaosgsgsgsgs','lk'])"
   ]
  },
  {
   "cell_type": "code",
   "execution_count": 57,
   "metadata": {
    "collapsed": true
   },
   "outputs": [],
   "source": [
    "l=['abc','dgdds']"
   ]
  },
  {
   "cell_type": "code",
   "execution_count": null,
   "metadata": {
    "collapsed": true
   },
   "outputs": [],
   "source": [
    "word_len = []\n",
    "    for n in words_list:\n",
    "        word_len.append((len(n), n))\n",
    "    word_len.sort()\n",
    "    return word_len[-1][1]"
   ]
  }
 ],
 "metadata": {
  "kernelspec": {
   "display_name": "Python 3",
   "language": "python",
   "name": "python3"
  },
  "language_info": {
   "codemirror_mode": {
    "name": "ipython",
    "version": 3
   },
   "file_extension": ".py",
   "mimetype": "text/x-python",
   "name": "python",
   "nbconvert_exporter": "python",
   "pygments_lexer": "ipython3",
   "version": "3.6.3"
  }
 },
 "nbformat": 4,
 "nbformat_minor": 2
}
