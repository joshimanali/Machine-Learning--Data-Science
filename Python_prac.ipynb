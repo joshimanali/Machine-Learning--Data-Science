{
 "cells": [
  {
   "cell_type": "code",
   "execution_count": 1,
   "metadata": {
    "collapsed": true
   },
   "outputs": [],
   "source": [
    "#Hello "
   ]
  },
  {
   "cell_type": "code",
   "execution_count": 1,
   "metadata": {
    "collapsed": true
   },
   "outputs": [],
   "source": [
    "# Write a Python function that takes a sequence of numbers and determines if all the numbers are different from each other. "
   ]
  },
  {
   "cell_type": "code",
   "execution_count": 35,
   "metadata": {
    "collapsed": true
   },
   "outputs": [],
   "source": [
    "from collections import defaultdict\n",
    "def different(n):\n",
    "    if len(n)==len(set(n)):\n",
    "        print('true')\n",
    "        print(n)\n",
    "        print(set(n))\n",
    "    else:\n",
    "        print('false')\n",
    "        "
   ]
  },
  {
   "cell_type": "code",
   "execution_count": 36,
   "metadata": {},
   "outputs": [
    {
     "name": "stdout",
     "output_type": "stream",
     "text": [
      "true\n",
      "[1, 2, 3, 4]\n",
      "{1, 2, 3, 4}\n"
     ]
    }
   ],
   "source": [
    "different([1,2,3,4])"
   ]
  },
  {
   "cell_type": "code",
   "execution_count": 100,
   "metadata": {
    "collapsed": true
   },
   "outputs": [],
   "source": [
    "#Write a Python program to get a string made of the first 2 and the last 2 chars from a given a string. \n",
    "#If the string length is less than 2, return instead of the empty string."
   ]
  },
  {
   "cell_type": "code",
   "execution_count": 119,
   "metadata": {
    "collapsed": true
   },
   "outputs": [],
   "source": [
    "def new(s):\n",
    "    if len(s)<2:\n",
    "        print('empty')\n",
    "    else:\n",
    "        str1=s[:2]\n",
    "        str2=s[-2:]\n",
    "        str3=str1+str2\n",
    "        print(str1)\n",
    "        print(str2)\n",
    "        print(str3)"
   ]
  },
  {
   "cell_type": "code",
   "execution_count": 122,
   "metadata": {},
   "outputs": [
    {
     "name": "stdout",
     "output_type": "stream",
     "text": [
      "empty\n"
     ]
    }
   ],
   "source": [
    "new('w')"
   ]
  },
  {
   "cell_type": "code",
   "execution_count": 123,
   "metadata": {
    "collapsed": true
   },
   "outputs": [],
   "source": [
    "#Write a Python program to add 'ing' at the end of a given string (length should be at least 3). \n",
    "#If the given string already ends with 'ing' then add 'ly' instead. \n",
    "#If the string length of the given string is less than 3, leave it unchanged"
   ]
  },
  {
   "cell_type": "code",
   "execution_count": 137,
   "metadata": {
    "collapsed": true
   },
   "outputs": [],
   "source": [
    "def adding(s):\n",
    "    if len(s)>=3 and s[-3:]=='ing':\n",
    "        s=s+'ly'\n",
    "        print(s)\n",
    "    elif len(s)>=3:\n",
    "        s=s+'ing'\n",
    "        print(s)\n",
    "    else:\n",
    "        print(s)"
   ]
  },
  {
   "cell_type": "code",
   "execution_count": 138,
   "metadata": {},
   "outputs": [
    {
     "name": "stdout",
     "output_type": "stream",
     "text": [
      "sbcing\n"
     ]
    }
   ],
   "source": [
    "adding('sbc')"
   ]
  },
  {
   "cell_type": "code",
   "execution_count": 1,
   "metadata": {
    "collapsed": true
   },
   "outputs": [],
   "source": [
    "#Write a Python program to find the first appearance of the substring 'not' and 'poor' from a given string,"
   ]
  },
  {
   "cell_type": "code",
   "execution_count": 26,
   "metadata": {
    "collapsed": true
   },
   "outputs": [],
   "source": [
    "def sub(s):\n",
    "    a=s.find('poor',0,len(s))\n",
    "    print(a)\n",
    "   "
   ]
  },
  {
   "cell_type": "code",
   "execution_count": 28,
   "metadata": {},
   "outputs": [
    {
     "name": "stdout",
     "output_type": "stream",
     "text": [
      "19\n"
     ]
    }
   ],
   "source": [
    "sub('This family is not poor')"
   ]
  },
  {
   "cell_type": "code",
   "execution_count": 29,
   "metadata": {
    "collapsed": true
   },
   "outputs": [],
   "source": [
    "#Write a Python function that takes a list of words and returns the length of the longest one"
   ]
  },
  {
   "cell_type": "code",
   "execution_count": 76,
   "metadata": {
    "collapsed": true
   },
   "outputs": [],
   "source": [
    "def long(l):\n",
    "    new_list=[]\n",
    "    for i in l:\n",
    "        new_list.append((len(i),i))\n",
    "    new_list.sort()\n",
    "    return(new_list)[-1][-1]\n"
   ]
  },
  {
   "cell_type": "code",
   "execution_count": 78,
   "metadata": {},
   "outputs": [
    {
     "data": {
      "text/plain": [
       "'Python'"
      ]
     },
     "execution_count": 78,
     "metadata": {},
     "output_type": "execute_result"
    }
   ],
   "source": [
    "long(['Java','Python','SQL'])"
   ]
  },
  {
   "cell_type": "code",
   "execution_count": 79,
   "metadata": {
    "collapsed": true
   },
   "outputs": [],
   "source": [
    "#Write a Python program to remove the characters which have odd index values of a given string"
   ]
  },
  {
   "cell_type": "code",
   "execution_count": 107,
   "metadata": {},
   "outputs": [
    {
     "name": "stdout",
     "output_type": "stream",
     "text": [
      "ace\n"
     ]
    }
   ],
   "source": [
    "s='abcdef'\n",
    "result=\"\"\n",
    "for i in range(0,len(s)):\n",
    "    if(i%2==0):\n",
    "        result=result+s[i]\n",
    "print(result)"
   ]
  },
  {
   "cell_type": "code",
   "execution_count": 5,
   "metadata": {
    "collapsed": true
   },
   "outputs": [],
   "source": [
    "#Write a Python function to get a string made of its first three characters of a specified string. \n",
    "#If the length of the string is less than 3 then return the original string\n",
    "def char(s):\n",
    "    if(len(s))>3:\n",
    "        str2=s[:3]\n",
    "        print(str2)\n",
    "    else:\n",
    "        print(s)\n",
    "    "
   ]
  },
  {
   "cell_type": "code",
   "execution_count": 7,
   "metadata": {},
   "outputs": [
    {
     "name": "stdout",
     "output_type": "stream",
     "text": [
      "pyt\n"
     ]
    }
   ],
   "source": [
    "char('pyt')"
   ]
  },
  {
   "cell_type": "code",
   "execution_count": 9,
   "metadata": {
    "collapsed": true
   },
   "outputs": [],
   "source": [
    "#Write a Python program to get the last part of a string before a specified character"
   ]
  },
  {
   "cell_type": "code",
   "execution_count": 10,
   "metadata": {
    "collapsed": true
   },
   "outputs": [],
   "source": [
    "s='https://www.w3resource.com/python-exercises'"
   ]
  },
  {
   "cell_type": "code",
   "execution_count": 15,
   "metadata": {},
   "outputs": [
    {
     "data": {
      "text/plain": [
       "'https://www.w3resource.com/python'"
      ]
     },
     "execution_count": 15,
     "metadata": {},
     "output_type": "execute_result"
    }
   ],
   "source": [
    "s.split('-')[0]"
   ]
  },
  {
   "cell_type": "code",
   "execution_count": 29,
   "metadata": {
    "collapsed": true
   },
   "outputs": [],
   "source": [
    "# Write a Python function to reverses a string if it's length is a multiple of 4\n",
    "def rev(s):\n",
    "    if len(s)%4==0:\n",
    "        return s[::-1]\n",
    "        #print(s)"
   ]
  },
  {
   "cell_type": "code",
   "execution_count": 30,
   "metadata": {},
   "outputs": [
    {
     "data": {
      "text/plain": [
       "'ecruoser'"
      ]
     },
     "execution_count": 30,
     "metadata": {},
     "output_type": "execute_result"
    }
   ],
   "source": [
    "rev('resource')"
   ]
  },
  {
   "cell_type": "code",
   "execution_count": 14,
   "metadata": {
    "collapsed": true
   },
   "outputs": [],
   "source": [
    "#Write a Python function to convert a given string to all uppercase if it contains at least 2\n",
    "#uppercase characters in the first 4 characters\n",
    "def upper(s):\n",
    "    letter_count=0\n",
    "    for char in s[:4]:\n",
    "        if char.upper()==char:\n",
    "            letter_count+=1\n",
    "    if letter_count >=2:\n",
    "        return s.upper()\n",
    "    else:\n",
    "        return s\n"
   ]
  },
  {
   "cell_type": "code",
   "execution_count": 15,
   "metadata": {},
   "outputs": [
    {
     "data": {
      "text/plain": [
       "'abCefgh'"
      ]
     },
     "execution_count": 15,
     "metadata": {},
     "output_type": "execute_result"
    }
   ],
   "source": [
    "upper('abCefgh')"
   ]
  },
  {
   "cell_type": "code",
   "execution_count": 70,
   "metadata": {},
   "outputs": [
    {
     "name": "stdout",
     "output_type": "stream",
     "text": [
      "d 3\n",
      "a 2\n"
     ]
    }
   ],
   "source": [
    "#Write apython program to count repeated characters in a string.\n",
    "#defaultdict will create a dict \n",
    "from collections import defaultdict\n",
    "string='agdhadd'\n",
    "count=defaultdict(int)\n",
    "for char in string:\n",
    "    count[char]+=1\n",
    "\n",
    "#get is a method in defaultdict which returns the value. Here we want to sort based on the values so we pass them as the key \n",
    "for char in sorted(count,key=count.get,reverse=True):\n",
    "    if count[char] > 1:\n",
    "        print(char,count[char])\n"
   ]
  },
  {
   "cell_type": "code",
   "execution_count": 92,
   "metadata": {},
   "outputs": [
    {
     "name": "stdout",
     "output_type": "stream",
     "text": [
      "a 2\n",
      "i 1\n"
     ]
    }
   ],
   "source": [
    "#Write a Python program to count and display the vowels of a given text\n",
    "from collections import defaultdict\n",
    "text='manali'\n",
    "count=defaultdict(int)\n",
    "vowels=[]\n",
    "for char in text:\n",
    "    count[char]+=1\n",
    "\n",
    "for char in sorted(count):\n",
    "    if char in ('a','e','i','o','u'):\n",
    "        print(char,count[char])\n",
    "    \n",
    "    "
   ]
  },
  {
   "cell_type": "code",
   "execution_count": null,
   "metadata": {
    "collapsed": true
   },
   "outputs": [],
   "source": []
  }
 ],
 "metadata": {
  "kernelspec": {
   "display_name": "Python 3",
   "language": "python",
   "name": "python3"
  },
  "language_info": {
   "codemirror_mode": {
    "name": "ipython",
    "version": 3
   },
   "file_extension": ".py",
   "mimetype": "text/x-python",
   "name": "python",
   "nbconvert_exporter": "python",
   "pygments_lexer": "ipython3",
   "version": "3.6.3"
  }
 },
 "nbformat": 4,
 "nbformat_minor": 2
}
